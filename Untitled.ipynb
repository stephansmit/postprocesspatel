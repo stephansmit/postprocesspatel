{
 "cells": [
  {
   "cell_type": "code",
   "execution_count": 318,
   "metadata": {
    "collapsed": true
   },
   "outputs": [],
   "source": [
    "import re\n",
    "import os, os.path\n"
   ]
  },
  {
   "cell_type": "code",
   "execution_count": 88,
   "metadata": {
    "collapsed": true
   },
   "outputs": [],
   "source": [
    "cases = [\n",
    "# '/tennekes/apatel/Re395_f_cons',\n",
    "# '/vonkarman/apatel/Re395_f_cons_ys',\n",
    "# '/vonkarman/apatel/Re395_f_gas',\n",
    "# '/vonkarman/apatel/Re395_f_gl',\n",
    "# '/vonkarman/apatel/Re395_f_liq',\n",
    "# '/vonkarman/apatel/Re395_f_cons_nu2',\n",
    "# '/vonkarman/apatel/Re395_f_varmusqrt2',\n",
    "# '/vonkarman/apatel/sca_gl',\n",
    "'/vonkarman/apatel/sca_vl']\n",
    "\n",
    "casemap = {\n",
    "    'Re395_f_cons':       {'rpow': 0, 'mpow': 0,'lpow': 0},\n",
    "    'Re395_f_cons_ys':    {'rpow': 0, 'mpow': 0,'lpow': 0},\n",
    "    'Re395_f_gas':        {'rpow': 0, 'mpow': 0,'lpow': 0},\n",
    "    'Re395_f_gl':         {'rpow': 0, 'mpow': 0,'lpow': 0},\n",
    "    'Re395_f_liq':        {'rpow': 0, 'mpow': 0,'lpow': 0},\n",
    "    'Re395_f_cons_nu2':   {'rpow': 0, 'mpow': 0,'lpow': 0},\n",
    "    'Re395_f_varmusqrt2': {'rpow': 0, 'mpow': 0,'lpow': 0},\n",
    "    'sca_gl':             {'rpow': 0, 'mpow': 0,'lpow': 0},\n",
    "    'sca_vl':             {'rpow': 0, 'mpow': 0,'lpow': 0}\n",
    "              }\n"
   ]
  },
  {
   "cell_type": "code",
   "execution_count": 350,
   "metadata": {},
   "outputs": [],
   "source": [
    "class PipeCase():\n",
    "    def __init__(self, caselocation, casemap):\n",
    "        self.caselocation = caselocation\n",
    "        self.casename = self.get_casename()\n",
    "        self.rpow = self.get_rpow(casemap)\n",
    "        self.mpow = self.get_mpow(casemap)\n",
    "        self.lpow = self.get_lpow(casemap)\n",
    "        self.mainfilename = 'main_comp.f'\n",
    "        self.postprocesslocation = '/vonkarman/apatel/Re395_f_cons_ys'\n",
    "        self.postprocessfoldername = 'post'\n",
    "        self.datafoldername = 'DNS'\n",
    "        self.mainfile  = \"/\".join([self.caselocation,self.mainfilename])\n",
    "        self.mainfilelines = self.get_mainfile_lines()\n",
    "        self.stretch_factor = self.get_stretch_factor()\n",
    "        self.volumetric_heatsource = self.get_volumetric_heatsource()\n",
    "        self.streamwise_length = self.get_streamwise_length()\n",
    "        self.spanwise_length = self.get_spanwise_length()\n",
    "        self.reynolds = self.get_reynolds()\n",
    "        self.prandtl = self.get_prandtl()\n",
    "#         self.numberfiles = self.get_number_files()\n",
    "#         self.startnumber = self.get_startnumber()\n",
    "        self.copyoldpostprocessfolder()\n",
    "        self.copypostprocessfolder()\n",
    "#         self.write_postprocessparamfile()\n",
    "        \n",
    "    def get_number_files(self):\n",
    "        data_dir = \"/\".join([self.caselocation, self.datafoldername])\n",
    "        numberfiles = len([name for name in os.listdir(data_dir) if os.path.isfile(name)])\n",
    "        return numberfiles\n",
    "    \n",
    "    def get_startnumber(self):\n",
    "        data_dir = \"/\".join([self.caselocation, self.datafoldername])\n",
    "        files = [name for name in os.listdir(data_dir) if os.path.isfile(name)]\n",
    "        numbers = []\n",
    "        for i in files:\n",
    "            regex = \"[0-9]+\"\n",
    "            matches = re.search(regex, i)\n",
    "            numbers.append(matches.group(0))\n",
    "        startnumber = sorted([ int(x) for x in numbers])[0]\n",
    "        return startnumber\n",
    "        \n",
    "\n",
    "    def get_mainfile_lines(self):\n",
    "        with open (self.mainfilename, \"r\") as myfile:\n",
    "            data=myfile.readlines()\n",
    "        return data\n",
    "    \n",
    "    \n",
    "    def get_volumetric_heatsource(self):\n",
    "        volumetric = [x for x in self.mainfilelines if \"dcdt =\" in x]\n",
    "        string = volumetric[0]\n",
    "        regex = \"[0-9]+\\.[0-9]+\"\n",
    "        matches = re.search(regex, string)\n",
    "        volumetric_heatsource = matches.group(0)\n",
    "        return volumetric_heatsource\n",
    "    \n",
    "    def get_stretch_factor(self):\n",
    "        stretch = [x for x in self.mainfilelines if \"dx = \" in x]\n",
    "        regex = \"-[0-9]+\\.[0-9]+\\*\\(\"\n",
    "        matches = re.search(regex, stretch[0])\n",
    "        stretch_factor = re.search('[0-9]+\\.[0-9]+',matches.group(0)).group(0)\n",
    "        return stretch_factor\n",
    "    \n",
    "    def get_streamwise_length(self):\n",
    "        string = [x for x in self.mainfilelines if \"Lz =\" in x][0]\n",
    "        streamwise_length = eval(\n",
    "            string.strip('\\n')\n",
    "            .replace('Lz =','')\n",
    "            .replace(' ','')\n",
    "            .replace(' ','')\n",
    "            .replace('*', \"*math.\")\n",
    "        )/math.atan(1)\n",
    "        return streamwise_length\n",
    "    def get_reynolds(self):\n",
    "        string = [x for x in self.mainfilelines if \"Re =\" in x][0]\n",
    "        reynolds = eval(\n",
    "            string.strip('\\n')\n",
    "            .replace('Re =','')\n",
    "            .replace(' ','')\n",
    "            .replace(' ','')\n",
    "        )\n",
    "        return reynolds\n",
    "    def get_prandtl(self):\n",
    "        string = [x for x in self.mainfilelines if \"Pr =\" in x][0]\n",
    "        reynolds = eval(\n",
    "            string.strip('\\n')\n",
    "            .replace('Pr =','')\n",
    "            .replace(' ','')\n",
    "            .replace(' ','')\n",
    "        )\n",
    "        return reynolds\n",
    "    \n",
    "    \n",
    "    def get_spanwise_length(self):\n",
    "        string = [x for x in self.mainfilelines if \"Lt = \" in x][0]\n",
    "        spanwise_length = eval(\n",
    "            string.strip('\\n')\n",
    "            .replace('Lt =','')\n",
    "            .replace(' ','')\n",
    "            .replace(' ','')\n",
    "            .replace('*', \"*math.\")\n",
    "        )/math.atan(1)\n",
    "        \n",
    "        return spanwise_length\n",
    "\n",
    "    def get_casename(self):\n",
    "        return self.caselocation.split('/')[-1]\n",
    "    def get_rpow(self,casemap):\n",
    "        return casemap[self.casename]['rpow']\n",
    "    def get_mpow(self,casemap):\n",
    "        return casemap[self.casename]['mpow']\n",
    "    def get_lpow(self,casemap):\n",
    "        return casemap[self.casename]['lpow']\n",
    "    \n",
    "    def copyoldpostprocessfolder(self):\n",
    "        string = \"/\".join([self.caselocation,self.postprocessfoldername])\n",
    "        print('cp -r ' + string + ' ' + string+\"_old\")\n",
    "    \n",
    "    def copypostprocessfolder(self):\n",
    "        print('cp -r ' + \"/\".join([self.postprocesslocation,self.postprocessfoldername]) + ' ' + self.caselocation + '/')\n",
    "    \n",
    "    \n",
    "    def write_postprocessparamfile(self):\n",
    "        filename = \"/\".join([self.caselocation ,self.postprocessfoldername, 'parameters'])\n",
    "        file = open(\"parameters\",\"w\") \n",
    "        file.write(\" \".join([self.numberfiles,self.startnumber]))\n",
    "        file.write(\" \".join([self.reynolds,self.prandtl]))\n",
    "        file.write(\" \".join([self.streamwise_length,self.spanwise_length,self.stretch_factor]))\n",
    "        file.write(\" \".join([self.rpow, self.mpow, self.lpow]))\n",
    "        file.write(self.volumetric_heatsource)\n",
    "        file.close()\n",
    "\n"
   ]
  },
  {
   "cell_type": "code",
   "execution_count": 351,
   "metadata": {},
   "outputs": [
    {
     "name": "stdout",
     "output_type": "stream",
     "text": [
      "cp -r /vonkarman/apatel/sca_vl/post /vonkarman/apatel/sca_vl/post_old\n",
      "cp -r /vonkarman/apatel/Re395_f_cons_ys/post /vonkarman/apatel/sca_vl/\n"
     ]
    }
   ],
   "source": [
    "Cases = [PipeCase(x, casemap) for x in cases]"
   ]
  },
  {
   "cell_type": "code",
   "execution_count": 352,
   "metadata": {},
   "outputs": [
    {
     "name": "stdout",
     "output_type": "stream",
     "text": [
      "395.0\n",
      "1.0\n",
      "8.0\n",
      "4.0\n",
      "17.55\n"
     ]
    }
   ],
   "source": [
    "for i in Cases:\n",
    "#     print(i.numberfiles)\n",
    "#     print(i.startnumber)\n",
    "    print(i.reynolds)\n",
    "    print(i.prandtl)\n",
    "    print(i.streamwise_length)\n",
    "    print(i.spanwise_length)\n",
    "    print(i.volumetric_heatsource)"
   ]
  },
  {
   "cell_type": "code",
   "execution_count": null,
   "metadata": {
    "collapsed": true
   },
   "outputs": [],
   "source": []
  },
  {
   "cell_type": "code",
   "execution_count": null,
   "metadata": {
    "collapsed": true
   },
   "outputs": [],
   "source": []
  }
 ],
 "metadata": {
  "kernelspec": {
   "display_name": "Python 2",
   "language": "python",
   "name": "python2"
  },
  "language_info": {
   "codemirror_mode": {
    "name": "ipython",
    "version": 2
   },
   "file_extension": ".py",
   "mimetype": "text/x-python",
   "name": "python",
   "nbconvert_exporter": "python",
   "pygments_lexer": "ipython2",
   "version": "2.7.12"
  }
 },
 "nbformat": 4,
 "nbformat_minor": 2
}
